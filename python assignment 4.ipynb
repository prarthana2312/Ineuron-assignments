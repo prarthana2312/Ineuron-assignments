{
 "cells": [
  {
   "cell_type": "markdown",
   "metadata": {},
   "source": [
    "### 1.1  Write a Python Program(with class concepts) to find the area of the triangle using the below formula"
   ]
  },
  {
   "cell_type": "markdown",
   "metadata": {},
   "source": [
    "  area = (s * (s-a) * (s-b) * (s-c)) ** 0.5"
   ]
  },
  {
   "cell_type": "markdown",
   "metadata": {},
   "source": [
    "#### Function to take the length of the sides of triangle from user should be defined in the parent class and the function to calculate  the area should be defined in subclass."
   ]
  },
  {
   "cell_type": "code",
   "execution_count": 10,
   "metadata": {},
   "outputs": [
    {
     "name": "stdout",
     "output_type": "stream",
     "text": [
      "Enter side x = 3\n",
      "Enter side y = 4\n",
      "Enter side z =5\n",
      "Area of a Triangle is : 6.0\n"
     ]
    }
   ],
   "source": [
    "class math:\n",
    "    def __init__(self,x,y,z):\n",
    "        self.x = x\n",
    "        self.y = y\n",
    "        self.z = z \n",
    "x= int(input(\"Enter side x = \"))\n",
    "y= int(input(\"Enter side y = \"))\n",
    "z= int(input(\"Enter side z =\"))\n",
    "\n",
    "class triangle(math):\n",
    "    def __init__(self,x,y,z):\n",
    "        self.x = x\n",
    "        self.y = y\n",
    "        self.z = z \n",
    "\n",
    "    def area(self):\n",
    "        s = (x + y + z) / 2\n",
    "        return (s*(s-x)*(s-y)*(s-z)) ** 0.5 \n",
    "\n",
    "\n",
    "t = triangle(x,y,z)\n",
    "print(\"Area of a Triangle is : {}\".format(t.area()))"
   ]
  },
  {
   "cell_type": "code",
   "execution_count": null,
   "metadata": {},
   "outputs": [],
   "source": []
  },
  {
   "cell_type": "markdown",
   "metadata": {},
   "source": [
    "### 1.2 Write a function filter_long_words() that takes a list of words and an integer n and returns the list of words that are longer than n."
   ]
  },
  {
   "cell_type": "code",
   "execution_count": 8,
   "metadata": {},
   "outputs": [
    {
     "name": "stdout",
     "output_type": "stream",
     "text": [
      "Enter Words: If you want to shine like a sun burn like a sun.\n",
      "Enter integer: 3\n",
      "List for words that are longer than n are:  ['want', 'shine', 'like', 'burn', 'like', 'sun.']\n"
     ]
    }
   ],
   "source": [
    "def filter_long_words(words,n):\n",
    "    c = []\n",
    "    text = words.split(\" \") \n",
    "    for x in text:\n",
    "        if len(x) > n:\n",
    "            c.append(x)\n",
    "    return c\n",
    "words =input (\"Enter Words: \")\n",
    "n = int(input(\"Enter integer: \"))\n",
    "print(\"List for words that are longer than n are: \",filter_long_words(words,n))"
   ]
  },
  {
   "cell_type": "code",
   "execution_count": null,
   "metadata": {},
   "outputs": [],
   "source": []
  },
  {
   "cell_type": "markdown",
   "metadata": {},
   "source": [
    "### 2.1 Write a Python Program using function concept that maps list of words into list of integers representing the lengths of the corresponding words."
   ]
  },
  {
   "cell_type": "code",
   "execution_count": 1,
   "metadata": {},
   "outputs": [
    {
     "data": {
      "text/plain": [
       "[5, 7, 2, 8]"
      ]
     },
     "execution_count": 1,
     "metadata": {},
     "output_type": "execute_result"
    }
   ],
   "source": [
    "def length(a):\n",
    "    for i in a:\n",
    "        return list(map(len,a))\n",
    "length([\"First\",\"Attempt\",\"In\",\"Learning\"])"
   ]
  },
  {
   "cell_type": "code",
   "execution_count": null,
   "metadata": {},
   "outputs": [],
   "source": []
  },
  {
   "cell_type": "markdown",
   "metadata": {},
   "source": [
    "### 2.2 Write a Python which takes a character (i.e. a string of length 1) and returns True if it is a vowel  False otherwise."
   ]
  },
  {
   "cell_type": "code",
   "execution_count": 6,
   "metadata": {},
   "outputs": [
    {
     "name": "stdout",
     "output_type": "stream",
     "text": [
      "Enter an alphabet to check : i\n"
     ]
    },
    {
     "data": {
      "text/plain": [
       "True"
      ]
     },
     "execution_count": 6,
     "metadata": {},
     "output_type": "execute_result"
    }
   ],
   "source": [
    "def vowel():\n",
    "    l=str(input(\"Enter an alphabet to check : \"))\n",
    "    if l in ('a','e','i','o','u'):\n",
    "        return True\n",
    "    else:\n",
    "        return False\n",
    "vowel()                                "
   ]
  },
  {
   "cell_type": "code",
   "execution_count": null,
   "metadata": {},
   "outputs": [],
   "source": []
  }
 ],
 "metadata": {
  "kernelspec": {
   "display_name": "Python 3",
   "language": "python",
   "name": "python3"
  },
  "language_info": {
   "codemirror_mode": {
    "name": "ipython",
    "version": 3
   },
   "file_extension": ".py",
   "mimetype": "text/x-python",
   "name": "python",
   "nbconvert_exporter": "python",
   "pygments_lexer": "ipython3",
   "version": "3.7.4"
  }
 },
 "nbformat": 4,
 "nbformat_minor": 2
}
